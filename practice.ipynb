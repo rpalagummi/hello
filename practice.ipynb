{
 "cells": [
  {
   "cell_type": "code",
   "execution_count": 8,
   "id": "907af889",
   "metadata": {},
   "outputs": [
    {
     "name": "stdout",
     "output_type": "stream",
     "text": [
      "Requirement already satisfied: pyyaml in c:\\ram\\tools\\anaconda3\\lib\\site-packages (6.0)\n",
      "Note: you may need to restart the kernel to use updated packages.\n"
     ]
    }
   ],
   "source": [
    "pip install pyyaml"
   ]
  },
  {
   "cell_type": "code",
   "execution_count": 44,
   "id": "c291333e",
   "metadata": {},
   "outputs": [
    {
     "name": "stdout",
     "output_type": "stream",
     "text": [
      "{'rest': {'url': 'https://example.org/primenumbers/v1', 'port': 8443}, 'prime_numbers': [2, 3, 5, 7, 11, 13, 17, 19], 'bar': 'this is not a normal string it spans more than one line see?'}\n"
     ]
    }
   ],
   "source": [
    "import yaml\n",
    "\n",
    "with open('bar.yml', 'r') as file:\n",
    "    prime_service = yaml.safe_load(file)\n",
    "\n",
    "    print(prime_service)"
   ]
  },
  {
   "cell_type": "code",
   "execution_count": 45,
   "id": "1db3b41b",
   "metadata": {},
   "outputs": [
    {
     "name": "stdout",
     "output_type": "stream",
     "text": [
      "this is not a normal string it spans more than one line see?\n"
     ]
    }
   ],
   "source": [
    "print(prime_service['bar'])"
   ]
  },
  {
   "cell_type": "code",
   "execution_count": 12,
   "id": "af6665b7",
   "metadata": {},
   "outputs": [
    {
     "data": {
      "text/plain": [
       "2"
      ]
     },
     "execution_count": 12,
     "metadata": {},
     "output_type": "execute_result"
    }
   ],
   "source": [
    "prime_service['prime_numbers'][0]"
   ]
  },
  {
   "cell_type": "code",
   "execution_count": 23,
   "id": "a8c8575e",
   "metadata": {},
   "outputs": [
    {
     "name": "stdout",
     "output_type": "stream",
     "text": [
      "rest : {'url': 'https://example.org/primenumbers/v1', 'port': 8443}\n",
      "prime_numbers : [2, 3, 5, 7, 11, 13, 17, 19]\n",
      "2\n",
      "3\n",
      "5\n",
      "7\n",
      "11\n",
      "13\n",
      "17\n",
      "19\n"
     ]
    }
   ],
   "source": [
    "for key, value in prime_service.items():\n",
    "        print (key + \" : \" + str(value))\n",
    "        if key == 'prime_numbers':\n",
    "            for i in value:\n",
    "                print(i)"
   ]
  },
  {
   "cell_type": "code",
   "execution_count": 26,
   "id": "80d3daa1",
   "metadata": {},
   "outputs": [
    {
     "name": "stdout",
     "output_type": "stream",
     "text": [
      "- eric\n",
      "- justin\n",
      "- mary-kate\n",
      "\n"
     ]
    }
   ],
   "source": [
    "names_yaml = \"\"\"\n",
    "- 'eric'\n",
    "- 'justin'\n",
    "- 'mary-kate'\n",
    "\"\"\"\n",
    "\n",
    "names = yaml.safe_load(names_yaml)\n",
    "\n",
    "with open('names.yml', 'w') as file:\n",
    "    yaml.dump(names, file)\n",
    "    \n",
    "print(open('names.yml').read())"
   ]
  },
  {
   "cell_type": "code",
   "execution_count": 30,
   "id": "4d95e956",
   "metadata": {},
   "outputs": [
    {
     "name": "stdout",
     "output_type": "stream",
     "text": [
      "{\n",
      "  \"rest\": {\n",
      "    \"url\": \"https://example.org/primenumbers/v1\",\n",
      "    \"port\": 8443\n",
      "  },\n",
      "  \"prime_numbers\": [\n",
      "    2,\n",
      "    3,\n",
      "    5,\n",
      "    7,\n",
      "    11,\n",
      "    13,\n",
      "    17,\n",
      "    19\n",
      "  ]\n",
      "}\n"
     ]
    }
   ],
   "source": [
    "import json\n",
    "\n",
    "with open('foo.yml', 'r') as file:\n",
    "    configuration = yaml.safe_load(file)\n",
    "    \n",
    "with open('config.json', 'w') as json_file:\n",
    "    json.dump(configuration, json_file)\n",
    "\n",
    "output = json.dumps(json.load(open('config.json')), indent=2)\n",
    "print(output)"
   ]
  },
  {
   "cell_type": "code",
   "execution_count": 33,
   "id": "02aef46e",
   "metadata": {},
   "outputs": [
    {
     "name": "stdout",
     "output_type": "stream",
     "text": [
      "['9092:9092', '9101:9101']\n"
     ]
    }
   ],
   "source": [
    "with open('docker-compose.yml', 'r') as file:\n",
    "    kafka = yaml.safe_load(file)\n",
    "\n",
    "    print(kafka['services']['broker']['ports'])"
   ]
  },
  {
   "cell_type": "code",
   "execution_count": null,
   "id": "96fcf233",
   "metadata": {},
   "outputs": [],
   "source": []
  }
 ],
 "metadata": {
  "kernelspec": {
   "display_name": "Python 3 (ipykernel)",
   "language": "python",
   "name": "python3"
  },
  "language_info": {
   "codemirror_mode": {
    "name": "ipython",
    "version": 3
   },
   "file_extension": ".py",
   "mimetype": "text/x-python",
   "name": "python",
   "nbconvert_exporter": "python",
   "pygments_lexer": "ipython3",
   "version": "3.9.12"
  }
 },
 "nbformat": 4,
 "nbformat_minor": 5
}
